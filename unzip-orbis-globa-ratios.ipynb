{
 "cells": [
  {
   "cell_type": "code",
   "execution_count": 1,
   "id": "2e41106c",
   "metadata": {
    "scrolled": false
   },
   "outputs": [],
   "source": [
    "%%capture\n",
    "!sudo yum update -y\n",
    "!sudo yum install epel-release -y\n",
    "!sudo yum install p7zip* -y"
   ]
  },
  {
   "cell_type": "code",
   "execution_count": 2,
   "id": "b9209848",
   "metadata": {
    "scrolled": true
   },
   "outputs": [
    {
     "name": "stdout",
     "output_type": "stream",
     "text": [
      "--2023-07-14 11:01:16--  https://www.dropbox.com/scl/fo/muaau43fpdrsh7i3htwfz/h?rlkey=nfggrzbw63oan9mmo4hvabq77&dl=1\n",
      "Resolving www.dropbox.com (www.dropbox.com)... 162.125.70.18, 2620:100:6026:18::a27d:4612\n",
      "Connecting to www.dropbox.com (www.dropbox.com)|162.125.70.18|:443... connected.\n",
      "HTTP request sent, awaiting response... 302 Found\n",
      "Location: https://uc44e6d7515c184f7eab9f28e7aa.dl.dropboxusercontent.com/zip_download_get/BjNO5pfDIKdp9UFkybAxKq_BEXGe_tyK5Resrs6IJ2fGqGqa99b_HWAX8CpB1f92p2_0q2b9dYzNer248vvBtuWppaSBS3FJhzXJYEa-Csvc6Q# [following]\n",
      "--2023-07-14 11:01:17--  https://uc44e6d7515c184f7eab9f28e7aa.dl.dropboxusercontent.com/zip_download_get/BjNO5pfDIKdp9UFkybAxKq_BEXGe_tyK5Resrs6IJ2fGqGqa99b_HWAX8CpB1f92p2_0q2b9dYzNer248vvBtuWppaSBS3FJhzXJYEa-Csvc6Q\n",
      "Resolving uc44e6d7515c184f7eab9f28e7aa.dl.dropboxusercontent.com (uc44e6d7515c184f7eab9f28e7aa.dl.dropboxusercontent.com)... 162.125.70.15, 2620:100:6026:15::a27d:460f\n",
      "Connecting to uc44e6d7515c184f7eab9f28e7aa.dl.dropboxusercontent.com (uc44e6d7515c184f7eab9f28e7aa.dl.dropboxusercontent.com)|162.125.70.15|:443... connected.\n",
      "HTTP request sent, awaiting response... 200 OK\n",
      "Length: 33838811327 (32G) [application/zip]\n",
      "Saving to: ‘orbis.zip’\n",
      "\n",
      "100%[===================================>] 33,838,811,327 22.9MB/s   in 25m 8s \n",
      "\n",
      "2023-07-14 11:26:25 (21.4 MB/s) - ‘orbis.zip’ saved [33838811327/33838811327]\n",
      "\n"
     ]
    }
   ],
   "source": [
    "!wget -O orbis.zip \"https://www.dropbox.com/scl/fo/muaau43fpdrsh7i3htwfz/h?rlkey=nfggrzbw63oan9mmo4hvabq77&dl=1\""
   ]
  },
  {
   "cell_type": "code",
   "execution_count": 3,
   "id": "7943da14",
   "metadata": {},
   "outputs": [
    {
     "name": "stdout",
     "output_type": "stream",
     "text": [
      "\n",
      "7-Zip [64] 16.02 : Copyright (c) 1999-2016 Igor Pavlov : 2016-05-21\n",
      "p7zip Version 16.02 (locale=en_US.UTF-8,Utf16=on,HugeFiles=on,64 bits,2 CPUs Intel(R) Xeon(R) Platinum 8259CL CPU @ 2.50GHz (50657),ASM,AES-NI)\n",
      "\n",
      "Scanning the drive for archives:\n",
      "  0M Sca        1 file, 33838811327 bytes (32 GiB)\n",
      "\n",
      "Extracting archive: orbis.zip\n",
      "--\n",
      "Path = orbis.zip\n",
      "Type = zip\n",
      "Physical Size = 33838811327\n",
      "64-bit = +\n",
      "\n",
      "      0% 1 - Industry-Global_financials_and_ratios-USD.part001.r                                                              1% 1 - Industry-Global_financials_and_ratios-USD.part001.r                                                              2% 1 - Industry-Global_financials_and_ratios-USD.part001.r                                                              3% 1 - Industry-Global_financials_and_ratios-USD.part001.r                                                              3%      3% 2 - Industry-Global_financials_and_ratios-USD.part002.r                                                              4% 2 - Industry-Global_financials_and_ratios-USD.part002.r                                                              5% 2 - Industry-Global_financials_and_ratios-USD.part002.r                                                              6% 2 - Industry-Global_financials_and_ratios-USD.part002.r                                                              6%      6% 3 - Industry-Global_financials_and_ratios-USD.part003.r                                                              7% 3 - Industry-Global_financials_and_ratios-USD.part003.r                                                              8% 3 - Industry-Global_financials_and_ratios-USD.part003.r                                                              9% 3 - Industry-Global_financials_and_ratios-USD.part003.r                                                              9%      9% 4 - Industry-Global_financials_and_ratios-USD.part004.r                                                             10% 4 - Industry-Global_financials_and_ratios-USD.part004.r                                                             11% 4 - Industry-Global_financials_and_ratios-USD.part004.r                                                             12% 4 - Industry-Global_financials_and_ratios-USD.part004.r                                                             12%     12% 5 - Industry-Global_financials_and_ratios-USD.part005.r                                                             13% 5 - Industry-Global_financials_and_ratios-USD.part005.r                                                             14% 5 - Industry-Global_financials_and_ratios-USD.part005.r                                                             15% 5 - Industry-Global_financials_and_ratios-USD.part005.r                                                             15%     16% 6 - Industry-Global_financials_and_ratios-USD.part006.r                                                             17% 6 - Industry-Global_financials_and_ratios-USD.part006.r                                                             18% 6 - Industry-Global_financials_and_ratios-USD.part006.r                                                             19% 6 - Industry-Global_financials_and_ratios-USD.part006.r                                                             19% 7 - Industry-Global_financials_and_ratios-USD.part007.r                                                             20% 7 - Industry-Global_financials_and_ratios-USD.part007.r                                                             21% 7 - Industry-Global_financials_and_ratios-USD.part007.r                                                             22% 7 - Industry-Global_financials_and_ratios-USD.part007.r                                                             22%     22% 8 - Industry-Global_financials_and_ratios-USD.part008.r                                                             23% 8 - Industry-Global_financials_and_ratios-USD.part008.r                                                             24% 8 - Industry-Global_financials_and_ratios-USD.part008.r                                                             25% 8 - Industry-Global_financials_and_ratios-USD.part008.r                                                             25%     25% 9 - Industry-Global_financials_and_ratios-USD.part009.r                                                             26% 9 - Industry-Global_financials_and_ratios-USD.part009.r                                                             27% 9 - Industry-Global_financials_and_ratios-USD.part009.r                                                             28% 9 - Industry-Global_financials_and_ratios-USD.part009.r                                                             28% 1       28% 10 - Industry-Global_financials_and_ratios-USD.part010.ra                                                               29% 10 - Industry-Global_financials_and_ratios-USD.part010.ra                                                               30% 10 - Industry-Global_financials_and_ratios-USD.part010.ra                                                               31% 10 - Industry-Global_financials_and_ratios-USD.part010.ra                                                               31% 1       31% 11 - Industry-Global_financials_and_ratios-USD.part011.ra                                                               32% 11 - Industry-Global_financials_and_ratios-USD.part011.ra                                                               33% 11 - Industry-Global_financials_and_ratios-USD.part011.ra                                                               34% 11 - Industry-Global_financials_and_ratios-USD.part011.ra                                                               34% 1       35% 12 - Industry-Global_financials_and_ratios-USD.part012.ra                                                               36% 12 - Industry-Global_financials_and_ratios-USD.part012.ra                                                               37% 12 - Industry-Global_financials_and_ratios-USD.part012.ra                                                               38% 12 - Industry-Global_financials_and_ratios-USD.part012.ra                                                               38% 13 - Industry-Global_financials_and_ratios-USD.part013.ra                                                               39% 13 - Industry-Global_financials_and_ratios-USD.part013.ra                                                               40% 13 - Industry-Global_financials_and_ratios-USD.part013.ra                                                               41% 13 - Industry-Global_financials_and_ratios-USD.part013.ra                                                               41% 1       41% 14 - Industry-Global_financials_and_ratios-USD.part014.ra                                                               42% 14 - Industry-Global_financials_and_ratios-USD.part014.ra                                                               43% 14 - Industry-Global_financials_and_ratios-USD.part014.ra                                                               44% 14 - Industry-Global_financials_and_ratios-USD.part014.ra                                                               44% 1       44% 15 - Industry-Global_financials_and_ratios-USD.part015.ra                                                               45% 15 - Industry-Global_financials_and_ratios-USD.part015.ra                                                               46% 15 - Industry-Global_financials_and_ratios-USD.part015.ra                                                               47% 15 - Industry-Global_financials_and_ratios-USD.part015.ra                                                               47% 1       47% 16 - Industry-Global_financials_and_ratios-USD.part016.ra                                                               48% 16 - Industry-Global_financials_and_ratios-USD.part016.ra                                                               49% 16 - Industry-Global_financials_and_ratios-USD.part016.ra                                                               50% 16 - Industry-Global_financials_and_ratios-USD.part016.ra                                                               50% 1       50% 17 - Industry-Global_financials_and_ratios-USD.part017.ra                                                               51% 17 - Industry-Global_financials_and_ratios-USD.part017.ra                                                               52% 17 - Industry-Global_financials_and_ratios-USD.part017.rar\b                                                               53% 17 - Industry-Global_financials_and_ratios-USD.part017.ra                                                               53% 1       54% 18 - Industry-Global_financials_and_ratios-USD.part018.ra                                                               55% 18 - Industry-Global_financials_and_ratios-USD.part018.ra                                                               56% 18 - Industry-Global_financials_and_ratios-USD.part018.ra                                                               57% 18 - Industry-Global_financials_and_ratios-USD.part018.ra                                                               57% 19 - Industry-Global_financials_and_ratios-USD.part019.ra                                                               58% 19 - Industry-Global_financials_and_ratios-USD.part019.ra                                                               59% 19 - Industry-Global_financials_and_ratios-USD.part019.ra                                                               60% 19 - Industry-Global_financials_and_ratios-USD.part019.ra                                                               60% 2       60% 20 - Industry-Global_financials_and_ratios-USD.part020.ra                                                               61% 20 - Industry-Global_financials_and_ratios-USD.part020.ra                                                               62% 20 - Industry-Global_financials_and_ratios-USD.part020.ra                                                               63% 20 - Industry-Global_financials_and_ratios-USD.part020.ra                                                               63% 2       63% 21 - Industry-Global_financials_and_ratios-USD.part021.ra                                                               64% 21 - Industry-Global_financials_and_ratios-USD.part021.ra                                                               65% 21 - Industry-Global_financials_and_ratios-USD.part021.ra                                                               66% 21 - Industry-Global_financials_and_ratios-USD.part021.ra                                                               66% 2       66% 22 - Industry-Global_financials_and_ratios-USD.part022.ra                                                               67% 22 - Industry-Global_financials_and_ratios-USD.part022.ra                                                               68% 22 - Industry-Global_financials_and_ratios-USD.part022.ra                                                               69% 22 - Industry-Global_financials_and_ratios-USD.part022.ra                                                               69% 2       69% 23 - Industry-Global_financials_and_ratios-USD.part023.ra                                                               70% 23 - Industry-Global_financials_and_ratios-USD.part023.ra                                                               71% 23 - Industry-Global_financials_and_ratios-USD.part023.ra                                                               72% 23 - Industry-Global_financials_and_ratios-USD.part023.ra                                                               72% 2       73% 24 - Industry-Global_financials_and_ratios-USD.part024.ra                                                               74% 24 - Industry-Global_financials_and_ratios-USD.part024.ra                                                               75% 24 - Industry-Global_financials_and_ratios-USD.part024.ra                                                               76% 24 - Industry-Global_financials_and_ratios-USD.part024.ra                                                               76% 2       76% 25 - Industry-Global_financials_and_ratios-USD.part025.ra                                                               77% 25 - Industry-Global_financials_and_ratios-USD.part025.ra                                                               78% 25 - Industry-Global_financials_and_ratios-USD.part025.ra                                                               79% 25 - Industry-Global_financials_and_ratios-USD.part025.ra                                                               79% 2       79% 26 - Industry-Global_financials_and_ratios-USD.part026.ra                                                               80% 26 - Industry-Global_financials_and_ratios-USD.part026.ra                                                               81% 26 - Industry-Global_financials_and_ratios-USD.part026.ra                                                               82% 26 - Industry-Global_financials_and_ratios-USD.part026.ra                                                               82% 2       82% 27 - Industry-Global_financials_and_ratios-USD.part027.ra                                                               83% 27 - Industry-Global_financials_and_ratios-USD.part027.ra                                                               84% 27 - Industry-Global_financials_and_ratios-USD.part027.ra                                                               85% 27 - Industry-Global_financials_and_ratios-USD.part027.ra                                                               85% 2       85% 28 - Industry-Global_financials_and_ratios-USD.part028.ra                                                               86% 28 - Industry-Global_financials_and_ratios-USD.part028.ra                                                               87% 28 - Industry-Global_financials_and_ratios-USD.part028.ra                                                               88% 28 - Industry-Global_financials_and_ratios-USD.part028.ra                                                               88% 2       88% 29 - Industry-Global_financials_and_ratios-USD.part029.ra                                                               89% 29 - Industry-Global_financials_and_ratios-USD.part029.ra                                                               90% 29 - Industry-Global_financials_and_ratios-USD.part029.ra                                                               91% 29 - Industry-Global_financials_and_ratios-USD.part029.ra                                                               92% 29 - Industry-Global_financials_and_ratios-USD.part029.ra                                                               92% 30 - Industry-Global_financials_and_ratios-USD.part030.ra                                                               93% 30 - Industry-Global_financials_and_ratios-USD.part030.ra                                                               94% 30 - Industry-Global_financials_and_ratios-USD.part030.ra                                                               95% 30 - Industry-Global_financials_and_ratios-USD.part030.ra                                                               95% 3       95% 31 - Industry-Global_financials_and_ratios-USD.part031.ra                                                               96% 31 - Industry-Global_financials_and_ratios-USD.part031.ra                                                               97% 31 - Industry-Global_financials_and_ratios-USD.part031.ra                                                               98% 31 - Industry-Global_financials_and_ratios-USD.part031.ra                                                               98% 3       98% 32 - Industry-Global_financials_and_ratios-USD.part032.ra                                                               99% 32 - Industry-Global_financials_and_ratios-USD.part032.ra                                                              100% 32 - Industry-Global_financials_and_ratios-USD.part032.ra                                                              Everything is Ok\n",
      "\n",
      "Folders: 1\n",
      "Files: 32\n",
      "Size:       33838803861\n",
      "Compressed: 33838811327\n"
     ]
    }
   ],
   "source": [
    "!7z x orbis.zip"
   ]
  },
  {
   "cell_type": "code",
   "execution_count": 33,
   "id": "0f0a3239",
   "metadata": {
    "scrolled": true
   },
   "outputs": [
    {
     "name": "stdout",
     "output_type": "stream",
     "text": [
      "--2023-07-14 10:19:35--  https://www.rarlab.com/rar/rarlinux-x64-612.tar.gz\n",
      "Resolving www.rarlab.com (www.rarlab.com)... 51.195.68.162\n",
      "Connecting to www.rarlab.com (www.rarlab.com)|51.195.68.162|:443... connected.\n",
      "HTTP request sent, awaiting response... 200 \n",
      "Length: 604520 (590K) [application/x-gzip]\n",
      "Saving to: ‘rarlinux-x64-612.tar.gz’\n",
      "\n",
      "100%[======================================>] 604,520     1.10MB/s   in 0.5s   \n",
      "\n",
      "2023-07-14 10:19:36 (1.10 MB/s) - ‘rarlinux-x64-612.tar.gz’ saved [604520/604520]\n",
      "\n"
     ]
    }
   ],
   "source": [
    "!wget https://www.rarlab.com/rar/rarlinux-x64-612.tar.gz"
   ]
  },
  {
   "cell_type": "code",
   "execution_count": 34,
   "id": "b5d709c3",
   "metadata": {
    "scrolled": true
   },
   "outputs": [
    {
     "name": "stdout",
     "output_type": "stream",
     "text": [
      "rar/\n",
      "rar/unrar\n",
      "rar/acknow.txt\n",
      "rar/whatsnew.txt\n",
      "rar/order.htm\n",
      "rar/readme.txt\n",
      "rar/rar.txt\n",
      "rar/makefile\n",
      "rar/default.sfx\n",
      "rar/rar\n",
      "rar/rarfiles.lst\n",
      "rar/license.txt\n"
     ]
    }
   ],
   "source": [
    "!tar -zxvf rarlinux-x64-612.tar.gz"
   ]
  },
  {
   "cell_type": "code",
   "execution_count": 35,
   "id": "76f34d8e",
   "metadata": {
    "scrolled": true
   },
   "outputs": [
    {
     "name": "stdout",
     "output_type": "stream",
     "text": [
      "/home/ec2-user/SageMaker/rar\n"
     ]
    }
   ],
   "source": [
    "cd rar"
   ]
  },
  {
   "cell_type": "code",
   "execution_count": 36,
   "id": "9872e402",
   "metadata": {
    "scrolled": true
   },
   "outputs": [
    {
     "name": "stdout",
     "output_type": "stream",
     "text": [
      "\r\n",
      "UNRAR 6.12 freeware      Copyright (c) 1993-2022 Alexander Roshal\r\n",
      "\r\n",
      "Usage:     unrar <command> -<switch 1> -<switch N> <archive> <files...>\r\n",
      "               <@listfiles...> <path_to_extract\\>\r\n",
      "\r\n",
      "<Commands>\r\n",
      "  e             Extract files without archived paths\r\n",
      "  l[t[a],b]     List archive contents [technical[all], bare]\r\n",
      "  p             Print file to stdout\r\n",
      "  t             Test archive files\r\n",
      "  v[t[a],b]     Verbosely list archive contents [technical[all],bare]\r\n",
      "  x             Extract files with full path\r\n",
      "\r\n",
      "<Switches>\r\n",
      "  -             Stop switches scanning\r\n",
      "  @[+]          Disable [enable] file lists\r\n",
      "  ad[1,2]       Alternate destination path\r\n",
      "  ag[format]    Generate archive name using the current date\r\n",
      "  ai            Ignore file attributes\r\n",
      "  ap<path>      Set path inside archive\r\n",
      "  c-            Disable comments show\r\n",
      "  cfg-          Disable read configuration\r\n",
      "  cl            Convert names to lower case\r\n",
      "  cu            Convert names to upper case\r\n",
      "  dh            Open shared files\r\n",
      "  ep            Exclude paths from names\r\n",
      "  ep3           Expand paths to full including the drive letter\r\n",
      "  ep4<path>     Exclude the path prefix from names\r\n",
      "  f             Freshen files\r\n",
      "  id[c,d,n,p,q] Display or disable messages\r\n",
      "  ierr          Send all messages to stderr\r\n",
      "  inul          Disable all messages\r\n",
      "  kb            Keep broken extracted files\r\n",
      "  me[par]       Set encryption parameters\r\n",
      "  n<file>       Additionally filter included files\r\n",
      "  n@            Read additional filter masks from stdin\r\n",
      "  n@<list>      Read additional filter masks from list file\r\n",
      "  o[+|-]        Set the overwrite mode\r\n",
      "  ol[a]         Process symbolic links as the link [absolute paths]\r\n",
      "  op<path>      Set the output path for extracted files\r\n",
      "  or            Rename files automatically\r\n",
      "  ow            Save or restore file owner and group\r\n",
      "  p[password]   Set password\r\n",
      "  r             Recurse subdirectories\r\n",
      "  sc<chr>[obj]  Specify the character set\r\n",
      "  si[name]      Read data from standard input (stdin)\r\n",
      "  sl<size>      Process files with size less than specified\r\n",
      "  sm<size>      Process files with size more than specified\r\n",
      "  ta[mcao]<d>   Process files modified after <d> YYYYMMDDHHMMSS date\r\n",
      "  tb[mcao]<d>   Process files modified before <d> YYYYMMDDHHMMSS date\r\n",
      "  tn[mcao]<t>   Process files newer than <t> time\r\n",
      "  to[mcao]<t>   Process files older than <t> time\r\n",
      "  ts[m,c,a,p]   Save or restore time (modification, creation, access, preserve)\r\n",
      "  u             Update files\r\n",
      "  v             List all volumes\r\n",
      "  ver[n]        File version control\r\n",
      "  vp            Pause before each volume\r\n",
      "  x<file>       Exclude specified file\r\n",
      "  x@            Read file names to exclude from stdin\r\n",
      "  x@<list>      Exclude files listed in specified list file\r\n",
      "  y             Assume Yes on all queries\r\n"
     ]
    }
   ],
   "source": [
    "!./unrar"
   ]
  },
  {
   "cell_type": "code",
   "execution_count": 37,
   "id": "87a4ad2a",
   "metadata": {},
   "outputs": [],
   "source": [
    "!sudo cp rar unrar /usr/local/bin"
   ]
  },
  {
   "cell_type": "code",
   "execution_count": 38,
   "id": "824405c7",
   "metadata": {},
   "outputs": [
    {
     "name": "stdout",
     "output_type": "stream",
     "text": [
      "/home/ec2-user/SageMaker\n"
     ]
    }
   ],
   "source": [
    "cd .."
   ]
  },
  {
   "cell_type": "code",
   "execution_count": 39,
   "id": "42a3c7fb",
   "metadata": {},
   "outputs": [
    {
     "name": "stdout",
     "output_type": "stream",
     "text": [
      "\n",
      "UNRAR 6.12 freeware      Copyright (c) 1993-2022 Alexander Roshal\n",
      "\n",
      "\n",
      "Extracting from orbis/Industry_classifications.part001.rar\n",
      "\n",
      "Extracting  Industry_classifications.txt                                                    1 1 12%\n",
      "\n",
      "Extracting from orbis/Industry_classifications.part002.rar\n",
      "\n",
      "...         Industry_classifications.txt                                1 1 1 1 1 1 1 2 2 2 2 2 25%\n",
      "\n",
      "Extracting from orbis/Industry_classifications.part003.rar\n",
      "\n",
      "...         Industry_classifications.txt                                2 2 2 2 3 3 3 3 3 3 3 3 38%\n",
      "\n",
      "Extracting from orbis/Industry_classifications.part004.rar\n",
      "\n",
      "...         Industry_classifications.txt                                3 4 4 4 4 4 4 4 4 4 4 50%\n",
      "\n",
      "Extracting from orbis/Industry_classifications.part005.rar\n",
      "\n",
      "...         Industry_classifications.txt                                5 5 5 5 5 5 5 5 5 6 6 6 63%\n",
      "\n",
      "Extracting from orbis/Industry_classifications.part006.rar\n",
      "\n",
      "...         Industry_classifications.txt                                6 6 6 6 6 6 7 7 7 7 7 7 76%\n",
      "\n",
      "Extracting from orbis/Industry_classifications.part007.rar\n",
      "\n",
      "...         Industry_classifications.txt                                7 7 7 8 81%\n",
      "Inappropriate ioctl for device\n",
      "Write error in the file Industry_classifications.txt [R]etry, [A]bort ^C\n",
      "\n",
      "User break\n",
      "Write error in the file Industry_classifications.txt\n",
      "Inappropriate ioctl for device\n",
      "Program aborted\n"
     ]
    }
   ],
   "source": [
    "!unrar e orbis/Industry_classifications.part001.rar"
   ]
  },
  {
   "cell_type": "code",
   "execution_count": 1,
   "id": "902a31a2",
   "metadata": {},
   "outputs": [],
   "source": [
    "import pandas as pd"
   ]
  },
  {
   "cell_type": "code",
   "execution_count": 2,
   "id": "ee85f66e",
   "metadata": {},
   "outputs": [],
   "source": [
    "cols = ['BvD ID number', 'Closing date', 'Number of employees', 'Added value', 'Sales', 'Research & Development expenses']"
   ]
  },
  {
   "cell_type": "code",
   "execution_count": 3,
   "id": "f4d35545",
   "metadata": {
    "scrolled": true
   },
   "outputs": [],
   "source": [
    "df_reader = pd.read_csv('Industry-Global_financials_and_ratios.txt', sep='\\t', usecols=cols, chunksize=10000000)"
   ]
  },
  {
   "cell_type": "code",
   "execution_count": 4,
   "id": "d16e10c3",
   "metadata": {},
   "outputs": [],
   "source": [
    "orbis_michael = pd.read_csv('orbis_michael_lexis_2.csv')"
   ]
  },
  {
   "cell_type": "code",
   "execution_count": 34,
   "id": "722be5c7",
   "metadata": {
    "scrolled": true
   },
   "outputs": [],
   "source": [
    "# df.dropna(subset=['Number of employees', 'Sales', 'Research & Development expenses', 'Added value'], how='all', inplace=True)"
   ]
  },
  {
   "cell_type": "code",
   "execution_count": 6,
   "id": "dfd5ad7f",
   "metadata": {
    "scrolled": false
   },
   "outputs": [
    {
     "name": "stdout",
     "output_type": "stream",
     "text": [
      "Processed chunk.\n"
     ]
    },
    {
     "name": "stderr",
     "output_type": "stream",
     "text": [
      "/home/ec2-user/anaconda3/envs/pytorch_p36/lib/python3.6/site-packages/IPython/core/interactiveshell.py:3072: DtypeWarning: Columns (59) have mixed types.Specify dtype option on import or set low_memory=False.\n",
      "  interactivity=interactivity, compiler=compiler, result=result)\n"
     ]
    },
    {
     "name": "stdout",
     "output_type": "stream",
     "text": [
      "Processed chunk.\n",
      "Processed chunk.\n",
      "Processed chunk.\n",
      "Processed chunk.\n",
      "Processed chunk.\n",
      "Processed chunk.\n",
      "Processed chunk.\n",
      "Processed chunk.\n",
      "Processed chunk.\n",
      "Processed chunk.\n",
      "Processed chunk.\n",
      "Processed chunk.\n",
      "Processed chunk.\n",
      "Processed chunk.\n",
      "Processed chunk.\n",
      "Processed chunk.\n",
      "Processed chunk.\n",
      "Processed chunk.\n",
      "Processed chunk.\n",
      "Processed chunk.\n",
      "Processed chunk.\n",
      "Processed chunk.\n",
      "Processed chunk.\n",
      "Processed chunk.\n",
      "Processed chunk.\n",
      "Processed chunk.\n",
      "Processed chunk.\n",
      "Processed chunk.\n",
      "Processed chunk.\n",
      "Processed chunk.\n",
      "Processed chunk.\n",
      "Processed chunk.\n",
      "Processed chunk.\n",
      "Processed chunk.\n",
      "Processed chunk.\n",
      "Processed chunk.\n",
      "Processed chunk.\n",
      "Processed chunk.\n",
      "Processed chunk.\n",
      "Processed chunk.\n"
     ]
    }
   ],
   "source": [
    "orbis_ids = set(orbis_michael['BvD ID number'].unique())\n",
    "merged_dfs = []\n",
    "for df in df_reader:\n",
    "    merged_df = df[df['BvD ID number'].isin(orbis_ids)]\n",
    "    merged_dfs.append(merged_df)\n",
    "    print('Processed chunk.')"
   ]
  },
  {
   "cell_type": "code",
   "execution_count": 8,
   "id": "3a4e326d",
   "metadata": {},
   "outputs": [],
   "source": [
    "merged_df = pd.concat(merged_dfs)"
   ]
  },
  {
   "cell_type": "code",
   "execution_count": 28,
   "id": "5d22d78a",
   "metadata": {},
   "outputs": [],
   "source": [
    "def to_datetime(date):\n",
    "    date = str(date)\n",
    "    try:\n",
    "        res = pd.to_datetime(date, format='%Y%m%d')\n",
    "    except:\n",
    "        try:\n",
    "            res = pd.to_datetime(date, format='%Y')\n",
    "        except:\n",
    "            res = None\n",
    "        \n",
    "    return res"
   ]
  },
  {
   "cell_type": "code",
   "execution_count": 30,
   "id": "90cfd4eb",
   "metadata": {},
   "outputs": [],
   "source": [
    "merged_df['Closing date'] = merged_df['Closing date'].apply(to_datetime)"
   ]
  },
  {
   "cell_type": "code",
   "execution_count": 34,
   "id": "9324983d",
   "metadata": {},
   "outputs": [],
   "source": [
    "merged_df.to_csv('orbis_kof_merged_michael.csv', index=False)"
   ]
  },
  {
   "cell_type": "code",
   "execution_count": 35,
   "id": "f9930d8e",
   "metadata": {},
   "outputs": [],
   "source": [
    "merged_df['Closing date'] = merged_df['Closing date'].dt.year"
   ]
  },
  {
   "cell_type": "code",
   "execution_count": 38,
   "id": "1a687522",
   "metadata": {},
   "outputs": [],
   "source": [
    "merged_df = merged_df[merged_df['Closing date'] < 2012]"
   ]
  },
  {
   "cell_type": "code",
   "execution_count": 39,
   "id": "f1967086",
   "metadata": {},
   "outputs": [
    {
     "data": {
      "text/html": [
       "<div>\n",
       "<style scoped>\n",
       "    .dataframe tbody tr th:only-of-type {\n",
       "        vertical-align: middle;\n",
       "    }\n",
       "\n",
       "    .dataframe tbody tr th {\n",
       "        vertical-align: top;\n",
       "    }\n",
       "\n",
       "    .dataframe thead th {\n",
       "        text-align: right;\n",
       "    }\n",
       "</style>\n",
       "<table border=\"1\" class=\"dataframe\">\n",
       "  <thead>\n",
       "    <tr style=\"text-align: right;\">\n",
       "      <th></th>\n",
       "      <th>BvD ID number</th>\n",
       "      <th>Closing date</th>\n",
       "      <th>Number of employees</th>\n",
       "      <th>Sales</th>\n",
       "      <th>Research &amp; Development expenses</th>\n",
       "      <th>Added value</th>\n",
       "    </tr>\n",
       "  </thead>\n",
       "  <tbody>\n",
       "    <tr>\n",
       "      <th>55773</th>\n",
       "      <td>AU41687119230</td>\n",
       "      <td>2010.0</td>\n",
       "      <td>100.0</td>\n",
       "      <td>NaN</td>\n",
       "      <td>NaN</td>\n",
       "      <td>NaN</td>\n",
       "    </tr>\n",
       "    <tr>\n",
       "      <th>57380</th>\n",
       "      <td>AU41766556766</td>\n",
       "      <td>2004.0</td>\n",
       "      <td>75.0</td>\n",
       "      <td>NaN</td>\n",
       "      <td>NaN</td>\n",
       "      <td>NaN</td>\n",
       "    </tr>\n",
       "    <tr>\n",
       "      <th>61895</th>\n",
       "      <td>AU41995651524</td>\n",
       "      <td>2009.0</td>\n",
       "      <td>100.0</td>\n",
       "      <td>NaN</td>\n",
       "      <td>NaN</td>\n",
       "      <td>NaN</td>\n",
       "    </tr>\n",
       "    <tr>\n",
       "      <th>92330</th>\n",
       "      <td>AU43451923923</td>\n",
       "      <td>2011.0</td>\n",
       "      <td>NaN</td>\n",
       "      <td>NaN</td>\n",
       "      <td>NaN</td>\n",
       "      <td>NaN</td>\n",
       "    </tr>\n",
       "    <tr>\n",
       "      <th>92331</th>\n",
       "      <td>AU43451923923</td>\n",
       "      <td>2010.0</td>\n",
       "      <td>NaN</td>\n",
       "      <td>NaN</td>\n",
       "      <td>NaN</td>\n",
       "      <td>NaN</td>\n",
       "    </tr>\n",
       "    <tr>\n",
       "      <th>...</th>\n",
       "      <td>...</td>\n",
       "      <td>...</td>\n",
       "      <td>...</td>\n",
       "      <td>...</td>\n",
       "      <td>...</td>\n",
       "      <td>...</td>\n",
       "    </tr>\n",
       "    <tr>\n",
       "      <th>401938916</th>\n",
       "      <td>ZW90002KZ</td>\n",
       "      <td>2009.0</td>\n",
       "      <td>NaN</td>\n",
       "      <td>66363000.0</td>\n",
       "      <td>NaN</td>\n",
       "      <td>NaN</td>\n",
       "    </tr>\n",
       "    <tr>\n",
       "      <th>401938940</th>\n",
       "      <td>ZWFEB19806</td>\n",
       "      <td>2003.0</td>\n",
       "      <td>NaN</td>\n",
       "      <td>NaN</td>\n",
       "      <td>NaN</td>\n",
       "      <td>NaN</td>\n",
       "    </tr>\n",
       "    <tr>\n",
       "      <th>401938941</th>\n",
       "      <td>ZWFEB19806</td>\n",
       "      <td>2002.0</td>\n",
       "      <td>NaN</td>\n",
       "      <td>NaN</td>\n",
       "      <td>NaN</td>\n",
       "      <td>NaN</td>\n",
       "    </tr>\n",
       "    <tr>\n",
       "      <th>401938942</th>\n",
       "      <td>ZWFEB19806</td>\n",
       "      <td>2001.0</td>\n",
       "      <td>NaN</td>\n",
       "      <td>NaN</td>\n",
       "      <td>NaN</td>\n",
       "      <td>NaN</td>\n",
       "    </tr>\n",
       "    <tr>\n",
       "      <th>401938988</th>\n",
       "      <td>ZWFEB46438</td>\n",
       "      <td>2011.0</td>\n",
       "      <td>50.0</td>\n",
       "      <td>NaN</td>\n",
       "      <td>NaN</td>\n",
       "      <td>NaN</td>\n",
       "    </tr>\n",
       "  </tbody>\n",
       "</table>\n",
       "<p>606564 rows × 6 columns</p>\n",
       "</div>"
      ],
      "text/plain": [
       "           BvD ID number  Closing date  Number of employees       Sales  \\\n",
       "55773      AU41687119230        2010.0                100.0         NaN   \n",
       "57380      AU41766556766        2004.0                 75.0         NaN   \n",
       "61895      AU41995651524        2009.0                100.0         NaN   \n",
       "92330      AU43451923923        2011.0                  NaN         NaN   \n",
       "92331      AU43451923923        2010.0                  NaN         NaN   \n",
       "...                  ...           ...                  ...         ...   \n",
       "401938916      ZW90002KZ        2009.0                  NaN  66363000.0   \n",
       "401938940     ZWFEB19806        2003.0                  NaN         NaN   \n",
       "401938941     ZWFEB19806        2002.0                  NaN         NaN   \n",
       "401938942     ZWFEB19806        2001.0                  NaN         NaN   \n",
       "401938988     ZWFEB46438        2011.0                 50.0         NaN   \n",
       "\n",
       "           Research & Development expenses Added value  \n",
       "55773                                  NaN         NaN  \n",
       "57380                                  NaN         NaN  \n",
       "61895                                  NaN         NaN  \n",
       "92330                                  NaN         NaN  \n",
       "92331                                  NaN         NaN  \n",
       "...                                    ...         ...  \n",
       "401938916                              NaN         NaN  \n",
       "401938940                              NaN         NaN  \n",
       "401938941                              NaN         NaN  \n",
       "401938942                              NaN         NaN  \n",
       "401938988                              NaN         NaN  \n",
       "\n",
       "[606564 rows x 6 columns]"
      ]
     },
     "execution_count": 39,
     "metadata": {},
     "output_type": "execute_result"
    }
   ],
   "source": [
    "merged_df"
   ]
  }
 ],
 "metadata": {
  "kernelspec": {
   "display_name": "conda_python3",
   "language": "python",
   "name": "conda_python3"
  },
  "language_info": {
   "codemirror_mode": {
    "name": "ipython",
    "version": 3
   },
   "file_extension": ".py",
   "mimetype": "text/x-python",
   "name": "python",
   "nbconvert_exporter": "python",
   "pygments_lexer": "ipython3",
   "version": "3.10.10"
  }
 },
 "nbformat": 4,
 "nbformat_minor": 5
}
