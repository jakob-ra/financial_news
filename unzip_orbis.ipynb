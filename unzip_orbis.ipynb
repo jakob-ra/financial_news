{
 "cells": [
  {
   "cell_type": "code",
   "execution_count": 1,
   "id": "9eb90d10",
   "metadata": {
    "scrolled": true
   },
   "outputs": [
    {
     "name": "stdout",
     "output_type": "stream",
     "text": [
      "--2022-05-31 13:56:29--  https://www.dropbox.com/sh/1747jzwze7i0dkv/AAA0zHErCpe0kq5K4qyH3gDqa?dl=1\n",
      "Resolving www.dropbox.com (www.dropbox.com)... 162.125.6.18, 2620:100:601c:18::a27d:612\n",
      "Connecting to www.dropbox.com (www.dropbox.com)|162.125.6.18|:443... connected.\n",
      "HTTP request sent, awaiting response... 301 Moved Permanently\n",
      "Location: /sh/dl/1747jzwze7i0dkv/AAA0zHErCpe0kq5K4qyH3gDqa [following]\n",
      "--2022-05-31 13:56:29--  https://www.dropbox.com/sh/dl/1747jzwze7i0dkv/AAA0zHErCpe0kq5K4qyH3gDqa\n",
      "Reusing existing connection to www.dropbox.com:443.\n",
      "HTTP request sent, awaiting response... 302 Found\n",
      "Location: https://uccab8a8d0023cd18e4816ceadfc.dl.dropboxusercontent.com/zip_download_get/BJvAGVtG8SkpHbEBYmzmusib0nevcAn3-TqQEn_oO1JFyjo91ArC7oscmIZhjJJpOm08ZE0HJYKyjKHSK_lQX7ZJK1Oe6KBULPtN3Zi2Av7bQg?dl=1# [following]\n",
      "--2022-05-31 13:56:30--  https://uccab8a8d0023cd18e4816ceadfc.dl.dropboxusercontent.com/zip_download_get/BJvAGVtG8SkpHbEBYmzmusib0nevcAn3-TqQEn_oO1JFyjo91ArC7oscmIZhjJJpOm08ZE0HJYKyjKHSK_lQX7ZJK1Oe6KBULPtN3Zi2Av7bQg?dl=1\n",
      "Resolving uccab8a8d0023cd18e4816ceadfc.dl.dropboxusercontent.com (uccab8a8d0023cd18e4816ceadfc.dl.dropboxusercontent.com)... 162.125.6.15, 2620:100:601c:15::a27d:60f\n",
      "Connecting to uccab8a8d0023cd18e4816ceadfc.dl.dropboxusercontent.com (uccab8a8d0023cd18e4816ceadfc.dl.dropboxusercontent.com)|162.125.6.15|:443... connected.\n",
      "HTTP request sent, awaiting response... 200 OK\n",
      "Length: 30654206160 (29G) [application/zip]\n",
      "Saving to: ‘AAA0zHErCpe0kq5K4qyH3gDqa?dl=1’\n",
      "\n",
      "AAA0zHErCpe0kq5K4qy 100%[===================>]  28.55G  85.7MB/s    in 5m 59s  \n",
      "\n",
      "2022-05-31 14:02:29 (81.4 MB/s) - ‘AAA0zHErCpe0kq5K4qyH3gDqa?dl=1’ saved [30654206160/30654206160]\n",
      "\n"
     ]
    }
   ],
   "source": [
    "!wget \"https://www.dropbox.com/sh/1747jzwze7i0dkv/AAA0zHErCpe0kq5K4qyH3gDqa?dl=1\""
   ]
  },
  {
   "cell_type": "code",
   "execution_count": 2,
   "id": "efa4ab7b",
   "metadata": {
    "scrolled": true
   },
   "outputs": [
    {
     "name": "stdout",
     "output_type": "stream",
     "text": [
      "Archive:  AAA0zHErCpe0kq5K4qyH3gDqa?dl=1\n",
      "warning:  stripped absolute path spec from /\n",
      "mapname:  conversion of  failed\n",
      " extracting: orbis/Key_financials-USD.part01.rar  \n",
      " extracting: orbis/Key_financials-USD.part06.rar  \n",
      " extracting: orbis/Key_financials-USD.part02.rar  \n",
      " extracting: orbis/Key_financials-USD.part03.rar  \n",
      " extracting: orbis/Key_financials-USD.part04.rar  \n",
      " extracting: orbis/Key_financials-USD.part05.rar  \n",
      " extracting: orbis/Industry-Global_financials_and_ratios.part001.rar  \n",
      " extracting: orbis/Industry-Global_financials_and_ratios.part002.rar  \n",
      " extracting: orbis/Industry-Global_financials_and_ratios.part003.rar  \n",
      " extracting: orbis/Industry-Global_financials_and_ratios.part004.rar  \n",
      " extracting: orbis/Industry-Global_financials_and_ratios.part005.rar  \n",
      " extracting: orbis/Industry-Global_financials_and_ratios.part006.rar  \n",
      " extracting: orbis/Industry-Global_financials_and_ratios.part007.rar  \n",
      " extracting: orbis/Industry-Global_financials_and_ratios.part008.rar  \n",
      " extracting: orbis/Industry-Global_financials_and_ratios.part009.rar  \n",
      " extracting: orbis/Industry-Global_financials_and_ratios.part010.rar  \n",
      " extracting: orbis/Industry-Global_financials_and_ratios.part011.rar  \n",
      " extracting: orbis/Industry-Global_financials_and_ratios.part012.rar  \n",
      " extracting: orbis/Industry-Global_financials_and_ratios.part014.rar  \n",
      " extracting: orbis/Industry-Global_financials_and_ratios.part015.rar  \n",
      " extracting: orbis/Industry-Global_financials_and_ratios.part019.rar  \n",
      " extracting: orbis/Industry-Global_financials_and_ratios.part022.rar  \n",
      " extracting: orbis/Industry-Global_financials_and_ratios.part017.rar  \n",
      " extracting: orbis/Industry-Global_financials_and_ratios.part018.rar  \n",
      " extracting: orbis/Industry-Global_financials_and_ratios.part020.rar  \n",
      " extracting: orbis/Industry-Global_financials_and_ratios.part021.rar  \n",
      " extracting: orbis/Industry-Global_financials_and_ratios.part023.rar  \n",
      " extracting: orbis/Industry-Global_financials_and_ratios.part013.rar  \n",
      " extracting: orbis/Industry-Global_financials_and_ratios.part024.rar  \n",
      " extracting: orbis/Industry-Global_financials_and_ratios.part016.rar  \n",
      "\n",
      "1 archive had fatal errors.\n"
     ]
    }
   ],
   "source": [
    "!unzip -d orbis AAA0zHErCpe0kq5K4qyH3gDqa?dl=1"
   ]
  },
  {
   "cell_type": "code",
   "execution_count": 1,
   "id": "2e41106c",
   "metadata": {},
   "outputs": [
    {
     "name": "stdout",
     "output_type": "stream",
     "text": [
      "Loaded plugins: dkms-build-requires, priorities, update-motd, upgrade-helper,\n",
      "              : versionlock\n",
      "amzn-main                                                | 2.1 kB     00:00     \n",
      "amzn-updates                                             | 3.8 kB     00:00     \n",
      "Package epel-release-6-8.9.amzn1.noarch already installed and latest version\n",
      "Nothing to do\n"
     ]
    }
   ],
   "source": [
    "!sudo yum install epel-release"
   ]
  },
  {
   "cell_type": "code",
   "execution_count": 2,
   "id": "33266851",
   "metadata": {
    "scrolled": true
   },
   "outputs": [
    {
     "name": "stdout",
     "output_type": "stream",
     "text": [
      "sudo: amazon-linux-extras: command not found\r\n"
     ]
    }
   ],
   "source": [
    "!sudo amazon-linux-extras install epel"
   ]
  },
  {
   "cell_type": "code",
   "execution_count": 2,
   "id": "0f0a3239",
   "metadata": {
    "scrolled": true
   },
   "outputs": [
    {
     "name": "stdout",
     "output_type": "stream",
     "text": [
      "--2022-06-01 12:11:08--  https://www.rarlab.com/rar/rarlinux-x64-612.tar.gz\n",
      "Resolving www.rarlab.com (www.rarlab.com)... 51.195.68.162\n",
      "Connecting to www.rarlab.com (www.rarlab.com)|51.195.68.162|:443... connected.\n",
      "HTTP request sent, awaiting response... 200 OK\n",
      "Length: 604520 (590K) [application/x-gzip]\n",
      "Saving to: ‘rarlinux-x64-612.tar.gz.1’\n",
      "\n",
      "rarlinux-x64-612.ta 100%[===================>] 590.35K   603KB/s    in 1.0s    \n",
      "\n",
      "2022-06-01 12:11:10 (603 KB/s) - ‘rarlinux-x64-612.tar.gz.1’ saved [604520/604520]\n",
      "\n"
     ]
    }
   ],
   "source": [
    "!wget https://www.rarlab.com/rar/rarlinux-x64-612.tar.gz"
   ]
  },
  {
   "cell_type": "code",
   "execution_count": 3,
   "id": "b5d709c3",
   "metadata": {
    "scrolled": true
   },
   "outputs": [
    {
     "name": "stdout",
     "output_type": "stream",
     "text": [
      "rar/\r\n",
      "rar/unrar\r\n",
      "rar/acknow.txt\r\n",
      "rar/whatsnew.txt\r\n",
      "rar/order.htm\r\n",
      "rar/readme.txt\r\n",
      "rar/rar.txt\r\n",
      "rar/makefile\r\n",
      "rar/default.sfx\r\n",
      "rar/rar\r\n",
      "rar/rarfiles.lst\r\n",
      "rar/license.txt\r\n"
     ]
    }
   ],
   "source": [
    "!tar -zxvf rarlinux-x64-612.tar.gz"
   ]
  },
  {
   "cell_type": "code",
   "execution_count": 4,
   "id": "76f34d8e",
   "metadata": {
    "scrolled": true
   },
   "outputs": [
    {
     "name": "stdout",
     "output_type": "stream",
     "text": [
      "/home/ec2-user/SageMaker/rar\n"
     ]
    }
   ],
   "source": [
    "cd rar"
   ]
  },
  {
   "cell_type": "code",
   "execution_count": 5,
   "id": "9872e402",
   "metadata": {
    "scrolled": true
   },
   "outputs": [
    {
     "name": "stdout",
     "output_type": "stream",
     "text": [
      "\r\n",
      "UNRAR 6.12 freeware      Copyright (c) 1993-2022 Alexander Roshal\r\n",
      "\r\n",
      "Usage:     unrar <command> -<switch 1> -<switch N> <archive> <files...>\r\n",
      "               <@listfiles...> <path_to_extract\\>\r\n",
      "\r\n",
      "<Commands>\r\n",
      "  e             Extract files without archived paths\r\n",
      "  l[t[a],b]     List archive contents [technical[all], bare]\r\n",
      "  p             Print file to stdout\r\n",
      "  t             Test archive files\r\n",
      "  v[t[a],b]     Verbosely list archive contents [technical[all],bare]\r\n",
      "  x             Extract files with full path\r\n",
      "\r\n",
      "<Switches>\r\n",
      "  -             Stop switches scanning\r\n",
      "  @[+]          Disable [enable] file lists\r\n",
      "  ad[1,2]       Alternate destination path\r\n",
      "  ag[format]    Generate archive name using the current date\r\n",
      "  ai            Ignore file attributes\r\n",
      "  ap<path>      Set path inside archive\r\n",
      "  c-            Disable comments show\r\n",
      "  cfg-          Disable read configuration\r\n",
      "  cl            Convert names to lower case\r\n",
      "  cu            Convert names to upper case\r\n",
      "  dh            Open shared files\r\n",
      "  ep            Exclude paths from names\r\n",
      "  ep3           Expand paths to full including the drive letter\r\n",
      "  ep4<path>     Exclude the path prefix from names\r\n",
      "  f             Freshen files\r\n",
      "  id[c,d,n,p,q] Display or disable messages\r\n",
      "  ierr          Send all messages to stderr\r\n",
      "  inul          Disable all messages\r\n",
      "  kb            Keep broken extracted files\r\n",
      "  me[par]       Set encryption parameters\r\n",
      "  n<file>       Additionally filter included files\r\n",
      "  n@            Read additional filter masks from stdin\r\n",
      "  n@<list>      Read additional filter masks from list file\r\n",
      "  o[+|-]        Set the overwrite mode\r\n",
      "  ol[a]         Process symbolic links as the link [absolute paths]\r\n",
      "  op<path>      Set the output path for extracted files\r\n",
      "  or            Rename files automatically\r\n",
      "  ow            Save or restore file owner and group\r\n",
      "  p[password]   Set password\r\n",
      "  r             Recurse subdirectories\r\n",
      "  sc<chr>[obj]  Specify the character set\r\n",
      "  si[name]      Read data from standard input (stdin)\r\n",
      "  sl<size>      Process files with size less than specified\r\n",
      "  sm<size>      Process files with size more than specified\r\n",
      "  ta[mcao]<d>   Process files modified after <d> YYYYMMDDHHMMSS date\r\n",
      "  tb[mcao]<d>   Process files modified before <d> YYYYMMDDHHMMSS date\r\n",
      "  tn[mcao]<t>   Process files newer than <t> time\r\n",
      "  to[mcao]<t>   Process files older than <t> time\r\n",
      "  ts[m,c,a,p]   Save or restore time (modification, creation, access, preserve)\r\n",
      "  u             Update files\r\n",
      "  v             List all volumes\r\n",
      "  ver[n]        File version control\r\n",
      "  vp            Pause before each volume\r\n",
      "  x<file>       Exclude specified file\r\n",
      "  x@            Read file names to exclude from stdin\r\n",
      "  x@<list>      Exclude files listed in specified list file\r\n",
      "  y             Assume Yes on all queries\r\n"
     ]
    }
   ],
   "source": [
    "!./unrar"
   ]
  },
  {
   "cell_type": "code",
   "execution_count": 6,
   "id": "87a4ad2a",
   "metadata": {},
   "outputs": [],
   "source": [
    "!sudo cp rar unrar /usr/local/bin"
   ]
  },
  {
   "cell_type": "code",
   "execution_count": 7,
   "id": "824405c7",
   "metadata": {},
   "outputs": [
    {
     "name": "stdout",
     "output_type": "stream",
     "text": [
      "/home/ec2-user/SageMaker\n"
     ]
    }
   ],
   "source": [
    "cd .."
   ]
  },
  {
   "cell_type": "code",
   "execution_count": 8,
   "id": "e3ea6f91",
   "metadata": {
    "scrolled": true
   },
   "outputs": [
    {
     "name": "stdout",
     "output_type": "stream",
     "text": [
      "\n",
      "UNRAR 6.12 freeware      Copyright (c) 1993-2022 Alexander Roshal\n",
      "\n",
      "\n",
      "Extracting from orbis/Industry-Global_financials_and_ratios.part001.rar\n",
      "\n",
      "Extracting  Industry-Global_financials_and_ratios.txt                            4%\n",
      "\n",
      "Extracting from orbis/Industry-Global_financials_and_ratios.part002.rar\n",
      "\n",
      "...         Industry-Global_financials_and_ratios.txt                          8%\n",
      "\n",
      "Extracting from orbis/Industry-Global_financials_and_ratios.part003.rar\n",
      "\n",
      "...         Industry-Global_financials_and_ratios.txt                     1 1 12%\n",
      "\n",
      "Extracting from orbis/Industry-Global_financials_and_ratios.part004.rar\n",
      "\n",
      "...         Industry-Global_financials_and_ratios.txt                   1 1 1 1 17%\n",
      "\n",
      "Extracting from orbis/Industry-Global_financials_and_ratios.part005.rar\n",
      "\n",
      "...         Industry-Global_financials_and_ratios.txt                   1 1 2 21%\n",
      "\n",
      "Extracting from orbis/Industry-Global_financials_and_ratios.part006.rar\n",
      "\n",
      "...         Industry-Global_financials_and_ratios.txt                   2 2 2 25%\n",
      "\n",
      "Extracting from orbis/Industry-Global_financials_and_ratios.part007.rar\n",
      "\n",
      "...         Industry-Global_financials_and_ratios.txt                   2 2 2 29%\n",
      "\n",
      "Extracting from orbis/Industry-Global_financials_and_ratios.part008.rar\n",
      "\n",
      "...         Industry-Global_financials_and_ratios.txt                   3 3 3 3 34%\n",
      "\n",
      "Extracting from orbis/Industry-Global_financials_and_ratios.part009.rar\n",
      "\n",
      "...         Industry-Global_financials_and_ratios.txt                   3 3 3 38%\n",
      "\n",
      "Extracting from orbis/Industry-Global_financials_and_ratios.part010.rar\n",
      "\n",
      "...         Industry-Global_financials_and_ratios.txt                   3 4 4 42%\n",
      "\n",
      "Extracting from orbis/Industry-Global_financials_and_ratios.part011.rar\n",
      "\n",
      "...         Industry-Global_financials_and_ratios.txt                   4 4 4 4 47%\n",
      "\n",
      "Extracting from orbis/Industry-Global_financials_and_ratios.part012.rar\n",
      "\n",
      "...         Industry-Global_financials_and_ratios.txt                   4 4 5 51%\n",
      "\n",
      "Extracting from orbis/Industry-Global_financials_and_ratios.part013.rar\n",
      "\n",
      "...         Industry-Global_financials_and_ratios.txt                   5 5 5 55%\n",
      "\n",
      "Extracting from orbis/Industry-Global_financials_and_ratios.part014.rar\n",
      "\n",
      "...         Industry-Global_financials_and_ratios.txt                   5 5 5 59%\n",
      "\n",
      "Extracting from orbis/Industry-Global_financials_and_ratios.part015.rar\n",
      "\n",
      "...         Industry-Global_financials_and_ratios.txt                   6 6 6 6 64%\n",
      "\n",
      "Extracting from orbis/Industry-Global_financials_and_ratios.part016.rar\n",
      "\n",
      "...         Industry-Global_financials_and_ratios.txt                   6 6 6 68%\n",
      "\n",
      "Extracting from orbis/Industry-Global_financials_and_ratios.part017.rar\n",
      "\n",
      "...         Industry-Global_financials_and_ratios.txt                   6 7 7 72%\n",
      "\n",
      "Extracting from orbis/Industry-Global_financials_and_ratios.part018.rar\n",
      "\n",
      "...         Industry-Global_financials_and_ratios.txt                   7 7 7 7 77%\n",
      "\n",
      "Extracting from orbis/Industry-Global_financials_and_ratios.part019.rar\n",
      "\n",
      "...         Industry-Global_financials_and_ratios.txt                   7 7 8 81%\n",
      "\n",
      "Extracting from orbis/Industry-Global_financials_and_ratios.part020.rar\n",
      "\n",
      "...         Industry-Global_financials_and_ratios.txt                   8 8 8 85%\n",
      "\n",
      "Extracting from orbis/Industry-Global_financials_and_ratios.part021.rar\n",
      "\n",
      "...         Industry-Global_financials_and_ratios.txt                   8 8 8 89%\n",
      "\n",
      "Extracting from orbis/Industry-Global_financials_and_ratios.part022.rar\n",
      "\n",
      "...         Industry-Global_financials_and_ratios.txt                   9 9 9 9 94%\n",
      "\n",
      "Extracting from orbis/Industry-Global_financials_and_ratios.part023.rar\n",
      "\n",
      "...         Industry-Global_financials_and_ratios.txt                   9 9 9 98%\n",
      "\n",
      "Extracting from orbis/Industry-Global_financials_and_ratios.part024.rar\n",
      "\n",
      "...         Industry-Global_financials_and_ratios.txt                   9100  OK \n",
      "All OK\n"
     ]
    }
   ],
   "source": [
    "!unrar e orbis/Industry-Global_financials_and_ratios.part001.rar"
   ]
  },
  {
   "cell_type": "code",
   "execution_count": 1,
   "id": "902a31a2",
   "metadata": {},
   "outputs": [],
   "source": [
    "import pandas as pd"
   ]
  },
  {
   "cell_type": "code",
   "execution_count": 2,
   "id": "ee85f66e",
   "metadata": {},
   "outputs": [],
   "source": [
    "cols = ['BvD ID number', 'Closing date', 'Number of employees', 'Added value', 'Sales', 'Research & Development expenses']"
   ]
  },
  {
   "cell_type": "code",
   "execution_count": 3,
   "id": "f4d35545",
   "metadata": {
    "scrolled": true
   },
   "outputs": [],
   "source": [
    "df_reader = pd.read_csv('Industry-Global_financials_and_ratios.txt', sep='\\t', usecols=cols, chunksize=10000000)"
   ]
  },
  {
   "cell_type": "code",
   "execution_count": 4,
   "id": "d16e10c3",
   "metadata": {},
   "outputs": [],
   "source": [
    "orbis_michael = pd.read_csv('orbis_michael_lexis_2.csv')"
   ]
  },
  {
   "cell_type": "code",
   "execution_count": 34,
   "id": "722be5c7",
   "metadata": {
    "scrolled": true
   },
   "outputs": [],
   "source": [
    "# df.dropna(subset=['Number of employees', 'Sales', 'Research & Development expenses', 'Added value'], how='all', inplace=True)"
   ]
  },
  {
   "cell_type": "code",
   "execution_count": 6,
   "id": "dfd5ad7f",
   "metadata": {
    "scrolled": false
   },
   "outputs": [
    {
     "name": "stdout",
     "output_type": "stream",
     "text": [
      "Processed chunk.\n"
     ]
    },
    {
     "name": "stderr",
     "output_type": "stream",
     "text": [
      "/home/ec2-user/anaconda3/envs/pytorch_p36/lib/python3.6/site-packages/IPython/core/interactiveshell.py:3072: DtypeWarning: Columns (59) have mixed types.Specify dtype option on import or set low_memory=False.\n",
      "  interactivity=interactivity, compiler=compiler, result=result)\n"
     ]
    },
    {
     "name": "stdout",
     "output_type": "stream",
     "text": [
      "Processed chunk.\n",
      "Processed chunk.\n",
      "Processed chunk.\n",
      "Processed chunk.\n",
      "Processed chunk.\n",
      "Processed chunk.\n",
      "Processed chunk.\n",
      "Processed chunk.\n",
      "Processed chunk.\n",
      "Processed chunk.\n",
      "Processed chunk.\n",
      "Processed chunk.\n",
      "Processed chunk.\n",
      "Processed chunk.\n",
      "Processed chunk.\n",
      "Processed chunk.\n",
      "Processed chunk.\n",
      "Processed chunk.\n",
      "Processed chunk.\n",
      "Processed chunk.\n",
      "Processed chunk.\n",
      "Processed chunk.\n",
      "Processed chunk.\n",
      "Processed chunk.\n",
      "Processed chunk.\n",
      "Processed chunk.\n",
      "Processed chunk.\n",
      "Processed chunk.\n",
      "Processed chunk.\n",
      "Processed chunk.\n",
      "Processed chunk.\n",
      "Processed chunk.\n",
      "Processed chunk.\n",
      "Processed chunk.\n",
      "Processed chunk.\n",
      "Processed chunk.\n",
      "Processed chunk.\n",
      "Processed chunk.\n",
      "Processed chunk.\n",
      "Processed chunk.\n"
     ]
    }
   ],
   "source": [
    "orbis_ids = set(orbis_michael['BvD ID number'].unique())\n",
    "merged_dfs = []\n",
    "for df in df_reader:\n",
    "    merged_df = df[df['BvD ID number'].isin(orbis_ids)]\n",
    "    merged_dfs.append(merged_df)\n",
    "    print('Processed chunk.')"
   ]
  },
  {
   "cell_type": "code",
   "execution_count": 8,
   "id": "3a4e326d",
   "metadata": {},
   "outputs": [],
   "source": [
    "merged_df = pd.concat(merged_dfs)"
   ]
  },
  {
   "cell_type": "code",
   "execution_count": 28,
   "id": "5d22d78a",
   "metadata": {},
   "outputs": [],
   "source": [
    "def to_datetime(date):\n",
    "    date = str(date)\n",
    "    try:\n",
    "        res = pd.to_datetime(date, format='%Y%m%d')\n",
    "    except:\n",
    "        try:\n",
    "            res = pd.to_datetime(date, format='%Y')\n",
    "        except:\n",
    "            res = None\n",
    "        \n",
    "    return res"
   ]
  },
  {
   "cell_type": "code",
   "execution_count": 30,
   "id": "90cfd4eb",
   "metadata": {},
   "outputs": [],
   "source": [
    "merged_df['Closing date'] = merged_df['Closing date'].apply(to_datetime)"
   ]
  },
  {
   "cell_type": "code",
   "execution_count": 34,
   "id": "9324983d",
   "metadata": {},
   "outputs": [],
   "source": [
    "merged_df.to_csv('orbis_kof_merged_michael.csv', index=False)"
   ]
  },
  {
   "cell_type": "code",
   "execution_count": 35,
   "id": "f9930d8e",
   "metadata": {},
   "outputs": [],
   "source": [
    "merged_df['Closing date'] = merged_df['Closing date'].dt.year"
   ]
  },
  {
   "cell_type": "code",
   "execution_count": 38,
   "id": "1a687522",
   "metadata": {},
   "outputs": [],
   "source": [
    "merged_df = merged_df[merged_df['Closing date'] < 2012]"
   ]
  },
  {
   "cell_type": "code",
   "execution_count": 39,
   "id": "f1967086",
   "metadata": {},
   "outputs": [
    {
     "data": {
      "text/html": [
       "<div>\n",
       "<style scoped>\n",
       "    .dataframe tbody tr th:only-of-type {\n",
       "        vertical-align: middle;\n",
       "    }\n",
       "\n",
       "    .dataframe tbody tr th {\n",
       "        vertical-align: top;\n",
       "    }\n",
       "\n",
       "    .dataframe thead th {\n",
       "        text-align: right;\n",
       "    }\n",
       "</style>\n",
       "<table border=\"1\" class=\"dataframe\">\n",
       "  <thead>\n",
       "    <tr style=\"text-align: right;\">\n",
       "      <th></th>\n",
       "      <th>BvD ID number</th>\n",
       "      <th>Closing date</th>\n",
       "      <th>Number of employees</th>\n",
       "      <th>Sales</th>\n",
       "      <th>Research &amp; Development expenses</th>\n",
       "      <th>Added value</th>\n",
       "    </tr>\n",
       "  </thead>\n",
       "  <tbody>\n",
       "    <tr>\n",
       "      <th>55773</th>\n",
       "      <td>AU41687119230</td>\n",
       "      <td>2010.0</td>\n",
       "      <td>100.0</td>\n",
       "      <td>NaN</td>\n",
       "      <td>NaN</td>\n",
       "      <td>NaN</td>\n",
       "    </tr>\n",
       "    <tr>\n",
       "      <th>57380</th>\n",
       "      <td>AU41766556766</td>\n",
       "      <td>2004.0</td>\n",
       "      <td>75.0</td>\n",
       "      <td>NaN</td>\n",
       "      <td>NaN</td>\n",
       "      <td>NaN</td>\n",
       "    </tr>\n",
       "    <tr>\n",
       "      <th>61895</th>\n",
       "      <td>AU41995651524</td>\n",
       "      <td>2009.0</td>\n",
       "      <td>100.0</td>\n",
       "      <td>NaN</td>\n",
       "      <td>NaN</td>\n",
       "      <td>NaN</td>\n",
       "    </tr>\n",
       "    <tr>\n",
       "      <th>92330</th>\n",
       "      <td>AU43451923923</td>\n",
       "      <td>2011.0</td>\n",
       "      <td>NaN</td>\n",
       "      <td>NaN</td>\n",
       "      <td>NaN</td>\n",
       "      <td>NaN</td>\n",
       "    </tr>\n",
       "    <tr>\n",
       "      <th>92331</th>\n",
       "      <td>AU43451923923</td>\n",
       "      <td>2010.0</td>\n",
       "      <td>NaN</td>\n",
       "      <td>NaN</td>\n",
       "      <td>NaN</td>\n",
       "      <td>NaN</td>\n",
       "    </tr>\n",
       "    <tr>\n",
       "      <th>...</th>\n",
       "      <td>...</td>\n",
       "      <td>...</td>\n",
       "      <td>...</td>\n",
       "      <td>...</td>\n",
       "      <td>...</td>\n",
       "      <td>...</td>\n",
       "    </tr>\n",
       "    <tr>\n",
       "      <th>401938916</th>\n",
       "      <td>ZW90002KZ</td>\n",
       "      <td>2009.0</td>\n",
       "      <td>NaN</td>\n",
       "      <td>66363000.0</td>\n",
       "      <td>NaN</td>\n",
       "      <td>NaN</td>\n",
       "    </tr>\n",
       "    <tr>\n",
       "      <th>401938940</th>\n",
       "      <td>ZWFEB19806</td>\n",
       "      <td>2003.0</td>\n",
       "      <td>NaN</td>\n",
       "      <td>NaN</td>\n",
       "      <td>NaN</td>\n",
       "      <td>NaN</td>\n",
       "    </tr>\n",
       "    <tr>\n",
       "      <th>401938941</th>\n",
       "      <td>ZWFEB19806</td>\n",
       "      <td>2002.0</td>\n",
       "      <td>NaN</td>\n",
       "      <td>NaN</td>\n",
       "      <td>NaN</td>\n",
       "      <td>NaN</td>\n",
       "    </tr>\n",
       "    <tr>\n",
       "      <th>401938942</th>\n",
       "      <td>ZWFEB19806</td>\n",
       "      <td>2001.0</td>\n",
       "      <td>NaN</td>\n",
       "      <td>NaN</td>\n",
       "      <td>NaN</td>\n",
       "      <td>NaN</td>\n",
       "    </tr>\n",
       "    <tr>\n",
       "      <th>401938988</th>\n",
       "      <td>ZWFEB46438</td>\n",
       "      <td>2011.0</td>\n",
       "      <td>50.0</td>\n",
       "      <td>NaN</td>\n",
       "      <td>NaN</td>\n",
       "      <td>NaN</td>\n",
       "    </tr>\n",
       "  </tbody>\n",
       "</table>\n",
       "<p>606564 rows × 6 columns</p>\n",
       "</div>"
      ],
      "text/plain": [
       "           BvD ID number  Closing date  Number of employees       Sales  \\\n",
       "55773      AU41687119230        2010.0                100.0         NaN   \n",
       "57380      AU41766556766        2004.0                 75.0         NaN   \n",
       "61895      AU41995651524        2009.0                100.0         NaN   \n",
       "92330      AU43451923923        2011.0                  NaN         NaN   \n",
       "92331      AU43451923923        2010.0                  NaN         NaN   \n",
       "...                  ...           ...                  ...         ...   \n",
       "401938916      ZW90002KZ        2009.0                  NaN  66363000.0   \n",
       "401938940     ZWFEB19806        2003.0                  NaN         NaN   \n",
       "401938941     ZWFEB19806        2002.0                  NaN         NaN   \n",
       "401938942     ZWFEB19806        2001.0                  NaN         NaN   \n",
       "401938988     ZWFEB46438        2011.0                 50.0         NaN   \n",
       "\n",
       "           Research & Development expenses Added value  \n",
       "55773                                  NaN         NaN  \n",
       "57380                                  NaN         NaN  \n",
       "61895                                  NaN         NaN  \n",
       "92330                                  NaN         NaN  \n",
       "92331                                  NaN         NaN  \n",
       "...                                    ...         ...  \n",
       "401938916                              NaN         NaN  \n",
       "401938940                              NaN         NaN  \n",
       "401938941                              NaN         NaN  \n",
       "401938942                              NaN         NaN  \n",
       "401938988                              NaN         NaN  \n",
       "\n",
       "[606564 rows x 6 columns]"
      ]
     },
     "execution_count": 39,
     "metadata": {},
     "output_type": "execute_result"
    }
   ],
   "source": [
    "merged_df"
   ]
  }
 ],
 "metadata": {
  "kernelspec": {
   "display_name": "conda_pytorch_p36",
   "language": "python",
   "name": "conda_pytorch_p36"
  },
  "language_info": {
   "codemirror_mode": {
    "name": "ipython",
    "version": 3
   },
   "file_extension": ".py",
   "mimetype": "text/x-python",
   "name": "python",
   "nbconvert_exporter": "python",
   "pygments_lexer": "ipython3",
   "version": "3.6.13"
  }
 },
 "nbformat": 4,
 "nbformat_minor": 5
}
